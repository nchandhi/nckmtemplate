{
 "cells": [
  {
   "cell_type": "code",
   "execution_count": 7,
   "metadata": {},
   "outputs": [
    {
     "name": "stdout",
     "output_type": "stream",
     "text": [
      "Files have been successfully divided into zip files.\n"
     ]
    }
   ],
   "source": [
    "import os\n",
    "import zipfile\n",
    "\n",
    "source_folder = 'audiofiles'\n",
    "destination_folder = 'audiozipfiles'\n",
    "# Get the list of files in the source folder\n",
    "files = [f for f in os.listdir(source_folder) if os.path.isfile(os.path.join(source_folder, f))]\n",
    "\n",
    "# Divide files into groups of 20 and create zip files\n",
    "group_size = 20\n",
    "for i in range(0, len(files), group_size):\n",
    "    group = files[i:i + group_size]  # Get the next group of 20 files\n",
    "    zip_file_name = f\"audiofiles_{(i // group_size) + 1}.zip\"  # Incremental zip file name\n",
    "    zip_file_path = os.path.join(destination_folder, zip_file_name)\n",
    "    \n",
    "    # Create a zip file for the current group\n",
    "    with zipfile.ZipFile(zip_file_path, 'w', zipfile.ZIP_DEFLATED) as zipf:\n",
    "        for file in group:\n",
    "            source_file_path = os.path.join(source_folder, file)\n",
    "            zipf.write(source_file_path, arcname=file)  # Add file to the zip\n",
    "\n",
    "print(\"Files have been successfully divided into zip files.\")"
   ]
  }
 ],
 "metadata": {
  "kernelspec": {
   "display_name": "base",
   "language": "python",
   "name": "python3"
  },
  "language_info": {
   "codemirror_mode": {
    "name": "ipython",
    "version": 3
   },
   "file_extension": ".py",
   "mimetype": "text/x-python",
   "name": "python",
   "nbconvert_exporter": "python",
   "pygments_lexer": "ipython3",
   "version": "3.11.7"
  }
 },
 "nbformat": 4,
 "nbformat_minor": 2
}
